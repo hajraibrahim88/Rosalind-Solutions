{
 "cells": [
  {
   "cell_type": "code",
   "execution_count": 2,
   "id": "49799467",
   "metadata": {},
   "outputs": [
    {
     "name": "stdout",
     "output_type": "stream",
     "text": [
      "483\n"
     ]
    }
   ],
   "source": [
    "with open(\"rosalind_hamm (2).txt\") as file:\n",
    "\tlines = file.readlines()\n",
    "\n",
    "s = lines[0].strip()\n",
    "t = lines[1].strip()\n",
    "\n",
    "assert len(s) == len(t)\n",
    "\n",
    "distance = 0\n",
    "for i in range(len(s)):\n",
    "\tif s[i] != t[i]:\n",
    "\t\tdistance += 1\n",
    "\n",
    "print(distance)"
   ]
  },
  {
   "cell_type": "code",
   "execution_count": null,
   "id": "596df07b",
   "metadata": {},
   "outputs": [],
   "source": []
  }
 ],
 "metadata": {
  "kernelspec": {
   "display_name": "Python 3 (ipykernel)",
   "language": "python",
   "name": "python3"
  },
  "language_info": {
   "codemirror_mode": {
    "name": "ipython",
    "version": 3
   },
   "file_extension": ".py",
   "mimetype": "text/x-python",
   "name": "python",
   "nbconvert_exporter": "python",
   "pygments_lexer": "ipython3",
   "version": "3.11.4"
  }
 },
 "nbformat": 4,
 "nbformat_minor": 5
}
